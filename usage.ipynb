{
 "cells": [
  {
   "cell_type": "code",
   "execution_count": 2,
   "metadata": {},
   "outputs": [],
   "source": [
    "using Images\n",
    "using FileIO\n",
    "\n",
    "include(\"src/WaveFunctionCollapse.jl\")\n",
    "using .WaveFunctionCollapse"
   ]
  },
  {
   "cell_type": "code",
   "execution_count": 66,
   "metadata": {},
   "outputs": [
    {
     "data": {
      "image/png": "[encoded data removed]",
      "text/plain": [
       "23×15 Array{RGB{N0f8},2} with eltype RGB{Normed{UInt8,8}}:\n",
       " RGB{N0f8}(0.749,0.91,0.949)   …  RGB{N0f8}(0.749,0.91,0.949) \n",
       " RGB{N0f8}(0.749,0.91,0.949)      RGB{N0f8}(0.749,0.91,0.949) \n",
       " RGB{N0f8}(0.749,0.91,0.949)      RGB{N0f8}(1.0,0.949,0.0)    \n",
       " RGB{N0f8}(0.749,0.91,0.949)      RGB{N0f8}(0.749,0.91,0.949) \n",
       " RGB{N0f8}(0.749,0.91,0.949)      RGB{N0f8}(0.749,0.91,0.949) \n",
       " RGB{N0f8}(0.749,0.91,0.949)   …  RGB{N0f8}(0.749,0.91,0.949) \n",
       " RGB{N0f8}(0.749,0.91,0.949)      RGB{N0f8}(0.749,0.91,0.949) \n",
       " RGB{N0f8}(1.0,0.949,0.0)         RGB{N0f8}(0.749,0.91,0.949) \n",
       " RGB{N0f8}(0.749,0.91,0.949)      RGB{N0f8}(0.749,0.91,0.949) \n",
       " RGB{N0f8}(0.749,0.91,0.949)      RGB{N0f8}(0.749,0.91,0.949) \n",
       " RGB{N0f8}(0.749,0.91,0.949)   …  RGB{N0f8}(0.749,0.91,0.949) \n",
       " RGB{N0f8}(0.749,0.91,0.949)      RGB{N0f8}(0.749,0.91,0.949) \n",
       " RGB{N0f8}(0.749,0.91,0.949)      RGB{N0f8}(0.749,0.91,0.949) \n",
       " RGB{N0f8}(0.749,0.91,0.949)      RGB{N0f8}(0.749,0.91,0.949) \n",
       " RGB{N0f8}(0.749,0.91,0.949)      RGB{N0f8}(0.749,0.91,0.949) \n",
       " RGB{N0f8}(0.749,0.91,0.949)   …  RGB{N0f8}(0.749,0.91,0.949) \n",
       " RGB{N0f8}(0.749,0.91,0.949)      RGB{N0f8}(0.749,0.91,0.949) \n",
       " RGB{N0f8}(0.749,0.91,0.949)      RGB{N0f8}(0.749,0.91,0.949) \n",
       " RGB{N0f8}(0.749,0.91,0.949)      RGB{N0f8}(0.749,0.91,0.949) \n",
       " RGB{N0f8}(0.749,0.91,0.949)      RGB{N0f8}(0.749,0.91,0.949) \n",
       " RGB{N0f8}(0.749,0.91,0.949)   …  RGB{N0f8}(0.749,0.91,0.949) \n",
       " RGB{N0f8}(0.725,0.478,0.341)     RGB{N0f8}(0.725,0.478,0.341)\n",
       " RGB{N0f8}(0.725,0.478,0.341)     RGB{N0f8}(0.725,0.478,0.341)"
      ]
     },
     "execution_count": 66,
     "metadata": {},
     "output_type": "execute_result"
    }
   ],
   "source": [
    "FileIO.load(\"samples/Flowers.png\")"
   ]
  },
  {
   "cell_type": "code",
   "execution_count": 5,
   "metadata": {},
   "outputs": [
    {
     "name": "stdout",
     "output_type": "stream",
     "text": [
      "Seed: 126525\n",
      "  1.550979 seconds (8.81 M allocations: 313.720 MiB, 5.13% gc time)\n"
     ]
    },
    {
     "data": {
      "image/png": "[encoded data removed]",
      "text/plain": [
       "20×20 Array{RGB{Float32},2} with eltype RGB{Float32}:\n",
       " RGB{Float32}(0.74902,0.909804,0.94902)  …  RGB{Float32}(0.74902,0.909804,0.94902)\n",
       " RGB{Float32}(0.74902,0.909804,0.94902)     RGB{Float32}(0.74902,0.909804,0.94902)\n",
       " RGB{Float32}(0.74902,0.909804,0.94902)     RGB{Float32}(0.74902,0.909804,0.94902)\n",
       " RGB{Float32}(0.74902,0.909804,0.94902)     RGB{Float32}(0.74902,0.909804,0.94902)\n",
       " RGB{Float32}(0.74902,0.909804,0.94902)     RGB{Float32}(0.74902,0.909804,0.94902)\n",
       " RGB{Float32}(0.74902,0.909804,0.94902)  …  RGB{Float32}(0.74902,0.909804,0.94902)\n",
       " RGB{Float32}(1.0,0.94902,0.0)              RGB{Float32}(0.74902,0.909804,0.94902)\n",
       " RGB{Float32}(0.74902,0.909804,0.94902)     RGB{Float32}(0.0,0.666667,0.0)        \n",
       " RGB{Float32}(0.74902,0.909804,0.94902)     RGB{Float32}(0.0,0.666667,0.0)        \n",
       " RGB{Float32}(0.74902,0.909804,0.94902)     RGB{Float32}(0.74902,0.909804,0.94902)\n",
       " RGB{Float32}(0.0,0.666667,0.0)          …  RGB{Float32}(0.74902,0.909804,0.94902)\n",
       " RGB{Float32}(0.0,0.666667,0.0)             RGB{Float32}(0.74902,0.909804,0.94902)\n",
       " RGB{Float32}(0.0,0.666667,0.0)             RGB{Float32}(0.74902,0.909804,0.94902)\n",
       " RGB{Float32}(0.0,0.666667,0.0)             RGB{Float32}(0.74902,0.909804,0.94902)\n",
       " RGB{Float32}(0.74902,0.909804,0.94902)     RGB{Float32}(0.74902,0.909804,0.94902)\n",
       " RGB{Float32}(0.74902,0.909804,0.94902)  …  RGB{Float32}(0.74902,0.909804,0.94902)\n",
       " RGB{Float32}(0.74902,0.909804,0.94902)     RGB{Float32}(0.74902,0.909804,0.94902)\n",
       " RGB{Float32}(0.74902,0.909804,0.94902)     RGB{Float32}(0.74902,0.909804,0.94902)\n",
       " RGB{Float32}(0.74902,0.909804,0.94902)     RGB{Float32}(0.74902,0.909804,0.94902)\n",
       " RGB{Float32}(1.0,0.94902,0.0)              RGB{Float32}(0.74902,0.909804,0.94902)"
      ]
     },
     "execution_count": 5,
     "metadata": {},
     "output_type": "execute_result"
    }
   ],
   "source": [
    "@time generate(\"samples/Flowers.png\")"
   ]
  },
  {
   "cell_type": "code",
   "execution_count": 16,
   "metadata": {},
   "outputs": [
    {
     "name": "stdout",
     "output_type": "stream",
     "text": [
      "  1.229267 seconds (7.73 M allocations: 215.084 MiB, 3.81% gc time)\n"
     ]
    },
    {
     "data": {
      "image/png": "[encoded data removed]",
      "text/plain": [
       "32×32 Array{RGB{Float32},2} with eltype RGB{Float32}:\n",
       " RGB{Float32}(0.74902,0.909804,0.94902)  …  RGB{Float32}(0.0,0.666667,0.0)        \n",
       " RGB{Float32}(0.74902,0.909804,0.94902)     RGB{Float32}(0.74902,0.909804,0.94902)\n",
       " RGB{Float32}(0.74902,0.909804,0.94902)     RGB{Float32}(0.0,0.666667,0.0)        \n",
       " RGB{Float32}(0.74902,0.909804,0.94902)     RGB{Float32}(0.0,0.666667,0.0)        \n",
       " RGB{Float32}(0.74902,0.909804,0.94902)     RGB{Float32}(0.74902,0.909804,0.94902)\n",
       " RGB{Float32}(0.74902,0.909804,0.94902)  …  RGB{Float32}(0.74902,0.909804,0.94902)\n",
       " RGB{Float32}(0.74902,0.909804,0.94902)     RGB{Float32}(0.74902,0.909804,0.94902)\n",
       " RGB{Float32}(0.0,0.666667,0.0)             RGB{Float32}(0.74902,0.909804,0.94902)\n",
       " RGB{Float32}(0.0,0.666667,0.0)             RGB{Float32}(0.74902,0.909804,0.94902)\n",
       " RGB{Float32}(0.0,0.666667,0.0)             RGB{Float32}(0.74902,0.909804,0.94902)\n",
       " RGB{Float32}(0.74902,0.909804,0.94902)  …  RGB{Float32}(0.74902,0.909804,0.94902)\n",
       " RGB{Float32}(0.74902,0.909804,0.94902)     RGB{Float32}(0.74902,0.909804,0.94902)\n",
       " RGB{Float32}(0.74902,0.909804,0.94902)     RGB{Float32}(0.74902,0.909804,0.94902)\n",
       " ⋮                                       ⋱                                        \n",
       " RGB{Float32}(0.74902,0.909804,0.94902)  …  RGB{Float32}(0.0,0.666667,0.0)        \n",
       " RGB{Float32}(0.74902,0.909804,0.94902)     RGB{Float32}(0.74902,0.909804,0.94902)\n",
       " RGB{Float32}(0.74902,0.909804,0.94902)     RGB{Float32}(0.74902,0.909804,0.94902)\n",
       " RGB{Float32}(0.74902,0.909804,0.94902)     RGB{Float32}(0.74902,0.909804,0.94902)\n",
       " RGB{Float32}(0.74902,0.909804,0.94902)     RGB{Float32}(0.74902,0.909804,0.94902)\n",
       " RGB{Float32}(0.74902,0.909804,0.94902)  …  RGB{Float32}(0.74902,0.909804,0.94902)\n",
       " RGB{Float32}(0.74902,0.909804,0.94902)     RGB{Float32}(0.74902,0.909804,0.94902)\n",
       " RGB{Float32}(0.74902,0.909804,0.94902)     RGB{Float32}(0.74902,0.909804,0.94902)\n",
       " RGB{Float32}(0.74902,0.909804,0.94902)     RGB{Float32}(0.74902,0.909804,0.94902)\n",
       " RGB{Float32}(0.74902,0.909804,0.94902)     RGB{Float32}(0.74902,0.909804,0.94902)\n",
       " RGB{Float32}(0.74902,0.909804,0.94902)  …  RGB{Float32}(0.74902,0.909804,0.94902)\n",
       " RGB{Float32}(0.74902,0.909804,0.94902)     RGB{Float32}(0.74902,0.909804,0.94902)"
      ]
     },
     "execution_count": 16,
     "metadata": {},
     "output_type": "execute_result"
    }
   ],
   "source": [
    "@time generate(\n",
    "    \"samples/Flowers.png\",\n",
    "    width=32,\n",
    "    height=32,\n",
    "    fast=true,\n",
    "    seed=121114)"
   ]
  },
  {
   "cell_type": "code",
   "execution_count": 11,
   "metadata": {},
   "outputs": [
    {
     "ename": "ErrorException",
     "evalue": "Impossible to complete generation. Restart the algorithm.",
     "output_type": "error",
     "traceback": [
      "Impossible to complete generation. Restart the algorithm.",
      "",
      "Stacktrace:",
      " [1] error(::String) at ./error.jl:33",
      " [2] generate(::Array{RGB{Normed{UInt8,8}},2}, ::Int64, ::Int64, ::Int64, ::Bool, ::Bool, ::Bool, ::Bool, ::Bool, ::Bool, ::Nothing, ::Int64, ::Bool, ::Bool) at /home/robert/git/WaveFunctionCollapse.jl/src/overlapping_model.jl:301",
      " [3] #generate#22 at /home/robert/git/WaveFunctionCollapse.jl/src/overlapping_model.jl:179 [inlined]",
      " [4] (::getfield(Main.WaveFunctionCollapse, Symbol(\"#kw##generate\")))(::NamedTuple{(:width, :height, :fast, :seed),Tuple{Int64,Int64,Bool,Int64}}, ::typeof(generate), ::Array{RGB{Normed{UInt8,8}},2}) at ./none:0",
      " [5] #generate#23(::Base.Iterators.Pairs{Symbol,Integer,NTuple{4,Symbol},NamedTuple{(:width, :height, :fast, :seed),Tuple{Int64,Int64,Bool,Int64}}}, ::Function, ::String) at /home/robert/git/WaveFunctionCollapse.jl/src/overlapping_model.jl:186",
      " [6] (::getfield(Main.WaveFunctionCollapse, Symbol(\"#kw##generate\")))(::NamedTuple{(:width, :height, :fast, :seed),Tuple{Int64,Int64,Bool,Int64}}, ::typeof(generate), ::String) at ./none:0",
      " [7] top-level scope at util.jl:156",
      " [8] top-level scope at In[11]:1"
     ]
    }
   ],
   "source": [
    "@time generate(\n",
    "    \"samples/Flowers.png\",\n",
    "    width=32,\n",
    "    height=32,\n",
    "    fast=true,\n",
    "    seed=165760)"
   ]
  },
  {
   "cell_type": "code",
   "execution_count": 15,
   "metadata": {},
   "outputs": [
    {
     "name": "stdout",
     "output_type": "stream",
     "text": [
      "  6.047602 seconds (32.31 M allocations: 1.020 GiB, 3.41% gc time)\n"
     ]
    },
    {
     "data": {
      "image/png": "[encoded data removed]",
      "text/plain": [
       "32×32 Array{RGB{Float32},2} with eltype RGB{Float32}:\n",
       " RGB{Float32}(0.74902,0.909804,0.94902)  …  RGB{Float32}(0.74902,0.909804,0.94902)\n",
       " RGB{Float32}(0.74902,0.909804,0.94902)     RGB{Float32}(0.74902,0.909804,0.94902)\n",
       " RGB{Float32}(0.74902,0.909804,0.94902)     RGB{Float32}(0.74902,0.909804,0.94902)\n",
       " RGB{Float32}(0.74902,0.909804,0.94902)     RGB{Float32}(0.74902,0.909804,0.94902)\n",
       " RGB{Float32}(0.74902,0.909804,0.94902)     RGB{Float32}(0.74902,0.909804,0.94902)\n",
       " RGB{Float32}(0.74902,0.909804,0.94902)  …  RGB{Float32}(0.74902,0.909804,0.94902)\n",
       " RGB{Float32}(1.0,0.94902,0.0)              RGB{Float32}(0.74902,0.909804,0.94902)\n",
       " RGB{Float32}(0.74902,0.909804,0.94902)     RGB{Float32}(0.74902,0.909804,0.94902)\n",
       " RGB{Float32}(0.74902,0.909804,0.94902)     RGB{Float32}(0.74902,0.909804,0.94902)\n",
       " RGB{Float32}(0.74902,0.909804,0.94902)     RGB{Float32}(0.0,0.666667,0.0)        \n",
       " RGB{Float32}(0.0,0.666667,0.0)          …  RGB{Float32}(0.0,0.666667,0.0)        \n",
       " RGB{Float32}(0.0,0.666667,0.0)             RGB{Float32}(0.74902,0.909804,0.94902)\n",
       " RGB{Float32}(0.0,0.666667,0.0)             RGB{Float32}(0.74902,0.909804,0.94902)\n",
       " ⋮                                       ⋱                                        \n",
       " RGB{Float32}(0.74902,0.909804,0.94902)  …  RGB{Float32}(0.74902,0.909804,0.94902)\n",
       " RGB{Float32}(0.74902,0.909804,0.94902)     RGB{Float32}(0.0,0.666667,0.0)        \n",
       " RGB{Float32}(0.0,0.666667,0.0)             RGB{Float32}(0.0,0.666667,0.0)        \n",
       " RGB{Float32}(0.0,0.666667,0.0)             RGB{Float32}(0.74902,0.909804,0.94902)\n",
       " RGB{Float32}(0.0,0.666667,0.0)             RGB{Float32}(0.74902,0.909804,0.94902)\n",
       " RGB{Float32}(0.74902,0.909804,0.94902)  …  RGB{Float32}(0.74902,0.909804,0.94902)\n",
       " RGB{Float32}(0.74902,0.909804,0.94902)     RGB{Float32}(0.74902,0.909804,0.94902)\n",
       " RGB{Float32}(0.74902,0.909804,0.94902)     RGB{Float32}(0.74902,0.909804,0.94902)\n",
       " RGB{Float32}(0.0,0.666667,0.0)             RGB{Float32}(0.74902,0.909804,0.94902)\n",
       " RGB{Float32}(0.0,0.666667,0.0)             RGB{Float32}(0.0,0.666667,0.0)        \n",
       " RGB{Float32}(0.74902,0.909804,0.94902)  …  RGB{Float32}(0.0,0.666667,0.0)        \n",
       " RGB{Float32}(0.74902,0.909804,0.94902)     RGB{Float32}(0.74902,0.909804,0.94902)"
      ]
     },
     "execution_count": 15,
     "metadata": {},
     "output_type": "execute_result"
    }
   ],
   "source": [
    "@time img = generate(\n",
    "    \"samples/Flowers.png\",\n",
    "    width=32,\n",
    "    height=32,\n",
    "    periodic_output=true,\n",
    "    mirror_input_horizontally=true,\n",
    "    seed=871114)"
   ]
  },
  {
   "cell_type": "code",
   "execution_count": 18,
   "metadata": {
    "scrolled": true
   },
   "outputs": [
    {
     "data": {
      "image/png": "[encoded data removed]",
      "text/plain": [
       "64×64 Array{RGB{Float32},2} with eltype RGB{Float32}:\n",
       " RGB{Float32}(0.74902,0.909804,0.94902)  …  RGB{Float32}(0.74902,0.909804,0.94902)\n",
       " RGB{Float32}(0.74902,0.909804,0.94902)     RGB{Float32}(0.74902,0.909804,0.94902)\n",
       " RGB{Float32}(0.74902,0.909804,0.94902)     RGB{Float32}(0.74902,0.909804,0.94902)\n",
       " RGB{Float32}(0.74902,0.909804,0.94902)     RGB{Float32}(0.74902,0.909804,0.94902)\n",
       " RGB{Float32}(0.74902,0.909804,0.94902)     RGB{Float32}(0.74902,0.909804,0.94902)\n",
       " RGB{Float32}(0.74902,0.909804,0.94902)  …  RGB{Float32}(0.74902,0.909804,0.94902)\n",
       " RGB{Float32}(1.0,0.94902,0.0)              RGB{Float32}(0.74902,0.909804,0.94902)\n",
       " RGB{Float32}(0.74902,0.909804,0.94902)     RGB{Float32}(0.74902,0.909804,0.94902)\n",
       " RGB{Float32}(0.74902,0.909804,0.94902)     RGB{Float32}(0.74902,0.909804,0.94902)\n",
       " RGB{Float32}(0.74902,0.909804,0.94902)     RGB{Float32}(0.0,0.666667,0.0)        \n",
       " RGB{Float32}(0.0,0.666667,0.0)          …  RGB{Float32}(0.0,0.666667,0.0)        \n",
       " RGB{Float32}(0.0,0.666667,0.0)             RGB{Float32}(0.74902,0.909804,0.94902)\n",
       " RGB{Float32}(0.0,0.666667,0.0)             RGB{Float32}(0.74902,0.909804,0.94902)\n",
       " ⋮                                       ⋱                                        \n",
       " RGB{Float32}(0.74902,0.909804,0.94902)     RGB{Float32}(0.74902,0.909804,0.94902)\n",
       " RGB{Float32}(0.74902,0.909804,0.94902)     RGB{Float32}(0.0,0.666667,0.0)        \n",
       " RGB{Float32}(0.0,0.666667,0.0)             RGB{Float32}(0.0,0.666667,0.0)        \n",
       " RGB{Float32}(0.0,0.666667,0.0)          …  RGB{Float32}(0.74902,0.909804,0.94902)\n",
       " RGB{Float32}(0.0,0.666667,0.0)             RGB{Float32}(0.74902,0.909804,0.94902)\n",
       " RGB{Float32}(0.74902,0.909804,0.94902)     RGB{Float32}(0.74902,0.909804,0.94902)\n",
       " RGB{Float32}(0.74902,0.909804,0.94902)     RGB{Float32}(0.74902,0.909804,0.94902)\n",
       " RGB{Float32}(0.74902,0.909804,0.94902)     RGB{Float32}(0.74902,0.909804,0.94902)\n",
       " RGB{Float32}(0.0,0.666667,0.0)          …  RGB{Float32}(0.74902,0.909804,0.94902)\n",
       " RGB{Float32}(0.0,0.666667,0.0)             RGB{Float32}(0.0,0.666667,0.0)        \n",
       " RGB{Float32}(0.74902,0.909804,0.94902)     RGB{Float32}(0.0,0.666667,0.0)        \n",
       " RGB{Float32}(0.74902,0.909804,0.94902)     RGB{Float32}(0.74902,0.909804,0.94902)"
      ]
     },
     "execution_count": 18,
     "metadata": {},
     "output_type": "execute_result"
    }
   ],
   "source": [
    "repeat(img, 2,2)"
   ]
  },
  {
   "cell_type": "code",
   "execution_count": 65,
   "metadata": {},
   "outputs": [
    {
     "name": "stdout",
     "output_type": "stream",
     "text": [
      "Ground:\n"
     ]
    },
    {
     "data": {
      "image/png": "[encoded data removed]",
      "text/plain": [
       "3×3 Array{RGB{Float32},2} with eltype RGB{Float32}:\n",
       " RGB{Float32}(0.74902,0.909804,0.94902)   …  RGB{Float32}(0.0,0.666667,0.0)         \n",
       " RGB{Float32}(0.72549,0.478431,0.341176)     RGB{Float32}(0.0,0.666667,0.0)         \n",
       " RGB{Float32}(0.72549,0.478431,0.341176)     RGB{Float32}(0.72549,0.478431,0.341176)"
      ]
     },
     "metadata": {},
     "output_type": "display_data"
    },
    {
     "name": "stdout",
     "output_type": "stream",
     "text": [
      "  5.413066 seconds (26.46 M allocations: 890.386 MiB, 4.21% gc time)\n"
     ]
    },
    {
     "data": {
      "image/png": "[encoded data removed]",
      "text/plain": [
       "32×32 Array{RGB{Float32},2} with eltype RGB{Float32}:\n",
       " RGB{Float32}(0.74902,0.909804,0.94902)   …  RGB{Float32}(0.74902,0.909804,0.94902) \n",
       " RGB{Float32}(0.74902,0.909804,0.94902)      RGB{Float32}(0.74902,0.909804,0.94902) \n",
       " RGB{Float32}(0.74902,0.909804,0.94902)      RGB{Float32}(0.74902,0.909804,0.94902) \n",
       " RGB{Float32}(0.74902,0.909804,0.94902)      RGB{Float32}(0.74902,0.909804,0.94902) \n",
       " RGB{Float32}(0.74902,0.909804,0.94902)      RGB{Float32}(0.74902,0.909804,0.94902) \n",
       " RGB{Float32}(0.74902,0.909804,0.94902)   …  RGB{Float32}(0.74902,0.909804,0.94902) \n",
       " RGB{Float32}(0.74902,0.909804,0.94902)      RGB{Float32}(0.74902,0.909804,0.94902) \n",
       " RGB{Float32}(0.74902,0.909804,0.94902)      RGB{Float32}(0.74902,0.909804,0.94902) \n",
       " RGB{Float32}(0.74902,0.909804,0.94902)      RGB{Float32}(0.74902,0.909804,0.94902) \n",
       " RGB{Float32}(0.74902,0.909804,0.94902)      RGB{Float32}(0.74902,0.909804,0.94902) \n",
       " RGB{Float32}(0.74902,0.909804,0.94902)   …  RGB{Float32}(0.74902,0.909804,0.94902) \n",
       " RGB{Float32}(0.74902,0.909804,0.94902)      RGB{Float32}(0.74902,0.909804,0.94902) \n",
       " RGB{Float32}(0.74902,0.909804,0.94902)      RGB{Float32}(0.74902,0.909804,0.94902) \n",
       " ⋮                                        ⋱                                         \n",
       " RGB{Float32}(0.0,0.666667,0.0)           …  RGB{Float32}(0.74902,0.909804,0.94902) \n",
       " RGB{Float32}(0.0,0.666667,0.0)              RGB{Float32}(0.74902,0.909804,0.94902) \n",
       " RGB{Float32}(0.74902,0.909804,0.94902)      RGB{Float32}(1.0,0.94902,0.0)          \n",
       " RGB{Float32}(0.74902,0.909804,0.94902)      RGB{Float32}(0.74902,0.909804,0.94902) \n",
       " RGB{Float32}(0.74902,0.909804,0.94902)      RGB{Float32}(0.74902,0.909804,0.94902) \n",
       " RGB{Float32}(0.74902,0.909804,0.94902)   …  RGB{Float32}(0.0,0.666667,0.0)         \n",
       " RGB{Float32}(0.74902,0.909804,0.94902)      RGB{Float32}(0.0,0.666667,0.0)         \n",
       " RGB{Float32}(0.74902,0.909804,0.94902)      RGB{Float32}(0.0,0.666667,0.0)         \n",
       " RGB{Float32}(0.74902,0.909804,0.94902)      RGB{Float32}(0.74902,0.909804,0.94902) \n",
       " RGB{Float32}(0.74902,0.909804,0.94902)      RGB{Float32}(0.74902,0.909804,0.94902) \n",
       " RGB{Float32}(0.72549,0.478431,0.341176)  …  RGB{Float32}(0.72549,0.478431,0.341176)\n",
       " RGB{Float32}(0.72549,0.478431,0.341176)     RGB{Float32}(0.72549,0.478431,0.341176)"
      ]
     },
     "execution_count": 65,
     "metadata": {},
     "output_type": "execute_result"
    }
   ],
   "source": [
    "@time img = generate(\n",
    "    \"samples/Flowers.png\",\n",
    "    width=32,\n",
    "    height=32,\n",
    "    ground=(21, 6),\n",
    "    seed=217378)"
   ]
  },
  {
   "cell_type": "code",
   "execution_count": 57,
   "metadata": {},
   "outputs": [
    {
     "data": {
      "image/png": "[encoded data removed]",
      "text/plain": [
       "32×32 Array{RGB{N0f8},2} with eltype RGB{Normed{UInt8,8}}:\n",
       " RGB{N0f8}(0.169,0.067,0.0)  …  RGB{N0f8}(0.169,0.067,0.0)\n",
       " RGB{N0f8}(0.169,0.067,0.0)     RGB{N0f8}(0.584,0.29,0.0) \n",
       " RGB{N0f8}(0.169,0.067,0.0)     RGB{N0f8}(0.341,0.165,0.0)\n",
       " RGB{N0f8}(0.169,0.067,0.0)     RGB{N0f8}(0.341,0.165,0.0)\n",
       " RGB{N0f8}(0.169,0.067,0.0)     RGB{N0f8}(0.341,0.165,0.0)\n",
       " RGB{N0f8}(0.169,0.067,0.0)  …  RGB{N0f8}(0.341,0.165,0.0)\n",
       " RGB{N0f8}(0.169,0.067,0.0)     RGB{N0f8}(0.341,0.165,0.0)\n",
       " RGB{N0f8}(0.169,0.067,0.0)     RGB{N0f8}(0.169,0.067,0.0)\n",
       " RGB{N0f8}(0.169,0.067,0.0)     RGB{N0f8}(0.169,0.067,0.0)\n",
       " RGB{N0f8}(0.584,0.29,0.0)      RGB{N0f8}(0.584,0.29,0.0) \n",
       " RGB{N0f8}(0.584,0.29,0.0)   …  RGB{N0f8}(0.584,0.29,0.0) \n",
       " RGB{N0f8}(0.341,0.165,0.0)     RGB{N0f8}(0.584,0.29,0.0) \n",
       " RGB{N0f8}(0.341,0.165,0.0)     RGB{N0f8}(0.584,0.29,0.0) \n",
       " ⋮                           ⋱                            \n",
       " RGB{N0f8}(0.169,0.067,0.0)  …  RGB{N0f8}(0.341,0.165,0.0)\n",
       " RGB{N0f8}(0.169,0.067,0.0)     RGB{N0f8}(0.341,0.165,0.0)\n",
       " RGB{N0f8}(0.169,0.067,0.0)     RGB{N0f8}(0.341,0.165,0.0)\n",
       " RGB{N0f8}(0.169,0.067,0.0)     RGB{N0f8}(0.341,0.165,0.0)\n",
       " RGB{N0f8}(0.169,0.067,0.0)     RGB{N0f8}(0.169,0.067,0.0)\n",
       " RGB{N0f8}(0.584,0.29,0.0)   …  RGB{N0f8}(0.584,0.29,0.0) \n",
       " RGB{N0f8}(0.584,0.29,0.0)      RGB{N0f8}(0.584,0.29,0.0) \n",
       " RGB{N0f8}(0.584,0.29,0.0)      RGB{N0f8}(0.341,0.165,0.0)\n",
       " RGB{N0f8}(0.584,0.29,0.0)      RGB{N0f8}(0.584,0.29,0.0) \n",
       " RGB{N0f8}(0.584,0.29,0.0)      RGB{N0f8}(0.341,0.165,0.0)\n",
       " RGB{N0f8}(0.341,0.165,0.0)  …  RGB{N0f8}(0.169,0.067,0.0)\n",
       " RGB{N0f8}(0.341,0.165,0.0)     RGB{N0f8}(0.169,0.067,0.0)"
      ]
     },
     "execution_count": 57,
     "metadata": {},
     "output_type": "execute_result"
    }
   ],
   "source": [
    "FileIO.load(\"samples/3Bricks.png\")"
   ]
  },
  {
   "cell_type": "code",
   "execution_count": 61,
   "metadata": {},
   "outputs": [
    {
     "name": "stdout",
     "output_type": "stream",
     "text": [
      "Seed: 55196\n",
      " 12.999419 seconds (94.34 M allocations: 2.004 GiB, 3.74% gc time)\n"
     ]
    },
    {
     "data": {
      "image/png": "[encoded data removed]",
      "text/plain": [
       "40×40 Array{RGB{Float32},2} with eltype RGB{Float32}:\n",
       " RGB{Float32}(0.584314,0.290196,0.0)   …  RGB{Float32}(0.341176,0.164706,0.0) \n",
       " RGB{Float32}(0.584314,0.290196,0.0)      RGB{Float32}(0.341176,0.164706,0.0) \n",
       " RGB{Float32}(0.584314,0.290196,0.0)      RGB{Float32}(0.341176,0.164706,0.0) \n",
       " RGB{Float32}(0.341176,0.164706,0.0)      RGB{Float32}(0.341176,0.164706,0.0) \n",
       " RGB{Float32}(0.584314,0.290196,0.0)      RGB{Float32}(0.341176,0.164706,0.0) \n",
       " RGB{Float32}(0.584314,0.290196,0.0)   …  RGB{Float32}(0.341176,0.164706,0.0) \n",
       " RGB{Float32}(0.584314,0.290196,0.0)      RGB{Float32}(0.341176,0.164706,0.0) \n",
       " RGB{Float32}(0.584314,0.290196,0.0)      RGB{Float32}(0.341176,0.164706,0.0) \n",
       " RGB{Float32}(0.584314,0.290196,0.0)      RGB{Float32}(0.341176,0.164706,0.0) \n",
       " RGB{Float32}(0.584314,0.290196,0.0)      RGB{Float32}(0.341176,0.164706,0.0) \n",
       " RGB{Float32}(0.584314,0.290196,0.0)   …  RGB{Float32}(0.341176,0.164706,0.0) \n",
       " RGB{Float32}(0.584314,0.290196,0.0)      RGB{Float32}(0.341176,0.164706,0.0) \n",
       " RGB{Float32}(0.584314,0.290196,0.0)      RGB{Float32}(0.341176,0.164706,0.0) \n",
       " ⋮                                     ⋱                                      \n",
       " RGB{Float32}(0.341176,0.164706,0.0)      RGB{Float32}(0.584314,0.290196,0.0) \n",
       " RGB{Float32}(0.341176,0.164706,0.0)      RGB{Float32}(0.341176,0.164706,0.0) \n",
       " RGB{Float32}(0.168627,0.0666667,0.0)  …  RGB{Float32}(0.168627,0.0666667,0.0)\n",
       " RGB{Float32}(0.584314,0.290196,0.0)      RGB{Float32}(0.584314,0.290196,0.0) \n",
       " RGB{Float32}(0.584314,0.290196,0.0)      RGB{Float32}(0.584314,0.290196,0.0) \n",
       " RGB{Float32}(0.341176,0.164706,0.0)      RGB{Float32}(0.584314,0.290196,0.0) \n",
       " RGB{Float32}(0.341176,0.164706,0.0)      RGB{Float32}(0.341176,0.164706,0.0) \n",
       " RGB{Float32}(0.341176,0.164706,0.0)   …  RGB{Float32}(0.341176,0.164706,0.0) \n",
       " RGB{Float32}(0.341176,0.164706,0.0)      RGB{Float32}(0.341176,0.164706,0.0) \n",
       " RGB{Float32}(0.584314,0.290196,0.0)      RGB{Float32}(0.341176,0.164706,0.0) \n",
       " RGB{Float32}(0.341176,0.164706,0.0)      RGB{Float32}(0.341176,0.164706,0.0) \n",
       " RGB{Float32}(0.168627,0.0666667,0.0)     RGB{Float32}(0.168627,0.0666667,0.0)"
      ]
     },
     "execution_count": 61,
     "metadata": {},
     "output_type": "execute_result"
    }
   ],
   "source": [
    "@time generate(\n",
    "    \"samples/3Bricks.png\",\n",
    "    patternsize=3,\n",
    "    width=40,\n",
    "    height=40,\n",
    "    fast=true)"
   ]
  }
 ],
 "metadata": {
  "@webio": {
   "lastCommId": "7B47ABD8E8474578B2450A848E1B0707",
   "lastKernelId": "e9e1da09-64d1-4a2f-a07d-fba82cc50718"
  },
  "kernelspec": {
   "display_name": "Julia 1.0.0",
   "language": "julia",
   "name": "julia-1.0"
  },
  "language_info": {
   "file_extension": ".jl",
   "mimetype": "application/julia",
   "name": "julia",
   "version": "1.0.0"
  }
 },
 "nbformat": 4,
 "nbformat_minor": 2
}
