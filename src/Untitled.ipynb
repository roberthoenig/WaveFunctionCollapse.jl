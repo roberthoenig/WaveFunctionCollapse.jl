{
 "cells": [
  {
   "cell_type": "code",
   "execution_count": 1,
   "metadata": {},
   "outputs": [],
   "source": [
    "using Revise\n",
    "\n",
    "includet(\"load.jl\")\n",
    "\n",
    "using FileIO\n",
    "using Images\n",
    "using Base.Iterators"
   ]
  },
  {
   "cell_type": "code",
   "execution_count": 2,
   "metadata": {
    "scrolled": true
   },
   "outputs": [
    {
     "data": {
      "image/png": "[encoded data removed]",
      "text/plain": [
       "23×15 Array{RGB{N0f8},2} with eltype RGB{Normed{UInt8,8}}:\n",
       " RGB{N0f8}(0.749,0.91,0.949)   …  RGB{N0f8}(0.749,0.91,0.949) \n",
       " RGB{N0f8}(0.749,0.91,0.949)      RGB{N0f8}(0.749,0.91,0.949) \n",
       " RGB{N0f8}(0.749,0.91,0.949)      RGB{N0f8}(1.0,0.949,0.0)    \n",
       " RGB{N0f8}(0.749,0.91,0.949)      RGB{N0f8}(0.749,0.91,0.949) \n",
       " RGB{N0f8}(0.749,0.91,0.949)      RGB{N0f8}(0.749,0.91,0.949) \n",
       " RGB{N0f8}(0.749,0.91,0.949)   …  RGB{N0f8}(0.749,0.91,0.949) \n",
       " RGB{N0f8}(0.749,0.91,0.949)      RGB{N0f8}(0.749,0.91,0.949) \n",
       " RGB{N0f8}(1.0,0.949,0.0)         RGB{N0f8}(0.749,0.91,0.949) \n",
       " RGB{N0f8}(0.749,0.91,0.949)      RGB{N0f8}(0.749,0.91,0.949) \n",
       " RGB{N0f8}(0.749,0.91,0.949)      RGB{N0f8}(0.749,0.91,0.949) \n",
       " RGB{N0f8}(0.749,0.91,0.949)   …  RGB{N0f8}(0.749,0.91,0.949) \n",
       " RGB{N0f8}(0.749,0.91,0.949)      RGB{N0f8}(0.749,0.91,0.949) \n",
       " RGB{N0f8}(0.749,0.91,0.949)      RGB{N0f8}(0.749,0.91,0.949) \n",
       " RGB{N0f8}(0.749,0.91,0.949)      RGB{N0f8}(0.749,0.91,0.949) \n",
       " RGB{N0f8}(0.749,0.91,0.949)      RGB{N0f8}(0.749,0.91,0.949) \n",
       " RGB{N0f8}(0.749,0.91,0.949)   …  RGB{N0f8}(0.749,0.91,0.949) \n",
       " RGB{N0f8}(0.749,0.91,0.949)      RGB{N0f8}(0.749,0.91,0.949) \n",
       " RGB{N0f8}(0.749,0.91,0.949)      RGB{N0f8}(0.749,0.91,0.949) \n",
       " RGB{N0f8}(0.749,0.91,0.949)      RGB{N0f8}(0.749,0.91,0.949) \n",
       " RGB{N0f8}(0.749,0.91,0.949)      RGB{N0f8}(0.749,0.91,0.949) \n",
       " RGB{N0f8}(0.749,0.91,0.949)   …  RGB{N0f8}(0.749,0.91,0.949) \n",
       " RGB{N0f8}(0.725,0.478,0.341)     RGB{N0f8}(0.725,0.478,0.341)\n",
       " RGB{N0f8}(0.725,0.478,0.341)     RGB{N0f8}(0.725,0.478,0.341)"
      ]
     },
     "execution_count": 2,
     "metadata": {},
     "output_type": "execute_result"
    }
   ],
   "source": [
    "i = FileIO.load(\"../../WaveFunctionCollapse/samples/Flowers.png\")"
   ]
  },
  {
   "cell_type": "code",
   "execution_count": 3,
   "metadata": {},
   "outputs": [
    {
     "data": {
      "text/plain": [
       "(23, 15)"
      ]
     },
     "execution_count": 3,
     "metadata": {},
     "output_type": "execute_result"
    }
   ],
   "source": [
    "size(i)"
   ]
  },
  {
   "cell_type": "code",
   "execution_count": 4,
   "metadata": {},
   "outputs": [],
   "source": [
    "load(filename=\"../../WaveFunctionCollapse/samples/Flowers.png\")"
   ]
  },
  {
   "cell_type": "code",
   "execution_count": 11,
   "metadata": {},
   "outputs": [
    {
     "data": {
      "image/png": "[encoded data removed]",
      "text/plain": [
       "2×2 Array{RGB{N0f8},2} with eltype RGB{Normed{UInt8,8}}:\n",
       " RGB{N0f8}(0.749,0.91,0.949)  RGB{N0f8}(1.0,0.949,0.0)\n",
       " RGB{N0f8}(1.0,0.949,0.0)     RGB{N0f8}(0.0,0.667,0.0)"
      ]
     },
     "execution_count": 11,
     "metadata": {},
     "output_type": "execute_result"
    }
   ],
   "source": [
    "(keys(patternToId)|>collect)[1]"
   ]
  },
  {
   "cell_type": "code",
   "execution_count": 13,
   "metadata": {},
   "outputs": [
    {
     "data": {
      "image/png": "[encoded data removed]",
      "text/plain": [
       "2×2 Array{RGB{N0f8},2} with eltype RGB{Normed{UInt8,8}}:\n",
       " RGB{N0f8}(0.749,0.91,0.949)  RGB{N0f8}(0.0,0.667,0.0)   \n",
       " RGB{N0f8}(0.749,0.91,0.949)  RGB{N0f8}(0.749,0.91,0.949)"
      ]
     },
     "metadata": {},
     "output_type": "display_data"
    },
    {
     "data": {
      "image/png": "[encoded data removed]",
      "text/plain": [
       "2×2 Array{RGB{N0f8},2} with eltype RGB{Normed{UInt8,8}}:\n",
       " RGB{N0f8}(0.749,0.91,0.949)  RGB{N0f8}(0.749,0.91,0.949)\n",
       " RGB{N0f8}(0.749,0.91,0.949)  RGB{N0f8}(0.749,0.91,0.949)"
      ]
     },
     "metadata": {},
     "output_type": "display_data"
    },
    {
     "data": {
      "image/png": "[encoded data removed]",
      "text/plain": [
       "2×2 Array{RGB{N0f8},2} with eltype RGB{Normed{UInt8,8}}:\n",
       " RGB{N0f8}(0.749,0.91,0.949)  RGB{N0f8}(0.749,0.91,0.949)\n",
       " RGB{N0f8}(0.749,0.91,0.949)  RGB{N0f8}(1.0,0.949,0.0)   "
      ]
     },
     "metadata": {},
     "output_type": "display_data"
    },
    {
     "data": {
      "image/png": "[encoded data removed]",
      "text/plain": [
       "2×2 Array{RGB{N0f8},2} with eltype RGB{Normed{UInt8,8}}:\n",
       " RGB{N0f8}(0.749,0.91,0.949)  RGB{N0f8}(1.0,0.949,0.0)   \n",
       " RGB{N0f8}(0.749,0.91,0.949)  RGB{N0f8}(0.749,0.91,0.949)"
      ]
     },
     "metadata": {},
     "output_type": "display_data"
    },
    {
     "data": {
      "image/png": "[encoded data removed]",
      "text/plain": [
       "2×2 Array{RGB{N0f8},2} with eltype RGB{Normed{UInt8,8}}:\n",
       " RGB{N0f8}(0.749,0.91,0.949)  RGB{N0f8}(1.0,0.949,0.0)\n",
       " RGB{N0f8}(0.749,0.91,0.949)  RGB{N0f8}(0.0,0.667,0.0)"
      ]
     },
     "metadata": {},
     "output_type": "display_data"
    },
    {
     "data": {
      "image/png": "[encoded data removed]",
      "text/plain": [
       "2×2 Array{RGB{N0f8},2} with eltype RGB{Normed{UInt8,8}}:\n",
       " RGB{N0f8}(0.749,0.91,0.949)  RGB{N0f8}(0.0,0.667,0.0)\n",
       " RGB{N0f8}(0.749,0.91,0.949)  RGB{N0f8}(0.0,0.667,0.0)"
      ]
     },
     "metadata": {},
     "output_type": "display_data"
    },
    {
     "data": {
      "image/png": "[encoded data removed]",
      "text/plain": [
       "2×2 Array{RGB{N0f8},2} with eltype RGB{Normed{UInt8,8}}:\n",
       " RGB{N0f8}(0.749,0.91,0.949)  RGB{N0f8}(0.749,0.91,0.949)\n",
       " RGB{N0f8}(0.749,0.91,0.949)  RGB{N0f8}(0.0,0.667,0.0)   "
      ]
     },
     "metadata": {},
     "output_type": "display_data"
    }
   ],
   "source": [
    "for id in patternAdjacency[(1,0)][1]\n",
    "    display(idToPattern[id])\n",
    "end"
   ]
  },
  {
   "cell_type": "code",
   "execution_count": 12,
   "metadata": {},
   "outputs": [
    {
     "data": {
      "text/plain": [
       "Dict{Any,Any} with 27 entries:\n",
       "  1  => Set(Any[7, 1, 2, 19, 5, 6, 20])\n",
       "  2  => Set(Any[10, 3])\n",
       "  16 => Set(Any[7, 1, 2, 19, 5, 6, 20])\n",
       "  11 => Set(Any[10, 3])\n",
       "  21 => Set(Any[26, 14, 22, 18])\n",
       "  7  => Set(Any[23, 15])\n",
       "  9  => Set(Any[9, 25])\n",
       "  25 => Set(Any[27])\n",
       "  10 => Set(Any[7, 1, 2, 19, 5, 6, 20])\n",
       "  26 => Set(Any[8, 24])\n",
       "  19 => Set(Any[4, 16])\n",
       "  17 => Set(Any[7, 1, 2, 19, 5, 6, 20])\n",
       "  8  => Set(Any[8, 24])\n",
       "  22 => Set(Any[23, 15])\n",
       "  6  => Set(Any[26, 14, 22, 18])\n",
       "  24 => Set(Any[26, 14, 22, 18])\n",
       "  4  => Set(Any[12])\n",
       "  3  => Set(Any[13, 11])\n",
       "  5  => Set(Any[13, 11])\n",
       "  20 => Set(Any[17, 21])\n",
       "  23 => Set(Any[7, 1, 2, 19, 5, 6, 20])\n",
       "  13 => Set(Any[7, 1, 2, 19, 5, 6, 20])\n",
       "  14 => Set(Any[17, 21])\n",
       "  27 => Set(Any[9, 25])\n",
       "  15 => Set(Any[26, 14, 22, 18])\n",
       "  ⋮  => ⋮"
      ]
     },
     "execution_count": 12,
     "metadata": {},
     "output_type": "execute_result"
    }
   ],
   "source": [
    "patternAdjacency[(1,0)]"
   ]
  }
 ],
 "metadata": {
  "@webio": {
   "lastCommId": "19A81044DDAE4B3DAA5EE3D556FB1FE7",
   "lastKernelId": "5569e45c-c655-4943-ae95-a48749d51fd3"
  },
  "kernelspec": {
   "display_name": "Julia 1.0.0",
   "language": "julia",
   "name": "julia-1.0"
  },
  "language_info": {
   "file_extension": ".jl",
   "mimetype": "application/julia",
   "name": "julia",
   "version": "1.0.0"
  }
 },
 "nbformat": 4,
 "nbformat_minor": 2
}
