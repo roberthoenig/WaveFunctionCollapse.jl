{
 "cells": [
  {
   "cell_type": "code",
   "execution_count": 1,
   "metadata": {},
   "outputs": [],
   "source": [
    "using Revise\n",
    "\n",
    "include(\"wavefunctioncollapse.jl\")\n",
    "\n",
    "using Main.wavefunctioncollapse\n",
    "\n",
    "using FileIO\n",
    "using Images"
   ]
  },
  {
   "cell_type": "code",
   "execution_count": 2,
   "metadata": {
    "scrolled": true
   },
   "outputs": [
    {
     "data": {
      "image/png": "[encoded data removed]",
      "text/plain": [
       "23×15 Array{RGB{N0f8},2} with eltype RGB{Normed{UInt8,8}}:\n",
       " RGB{N0f8}(0.749,0.91,0.949)   …  RGB{N0f8}(0.749,0.91,0.949) \n",
       " RGB{N0f8}(0.749,0.91,0.949)      RGB{N0f8}(0.749,0.91,0.949) \n",
       " RGB{N0f8}(0.749,0.91,0.949)      RGB{N0f8}(1.0,0.949,0.0)    \n",
       " RGB{N0f8}(0.749,0.91,0.949)      RGB{N0f8}(0.749,0.91,0.949) \n",
       " RGB{N0f8}(0.749,0.91,0.949)      RGB{N0f8}(0.749,0.91,0.949) \n",
       " RGB{N0f8}(0.749,0.91,0.949)   …  RGB{N0f8}(0.749,0.91,0.949) \n",
       " RGB{N0f8}(0.749,0.91,0.949)      RGB{N0f8}(0.749,0.91,0.949) \n",
       " RGB{N0f8}(1.0,0.949,0.0)         RGB{N0f8}(0.749,0.91,0.949) \n",
       " RGB{N0f8}(0.749,0.91,0.949)      RGB{N0f8}(0.749,0.91,0.949) \n",
       " RGB{N0f8}(0.749,0.91,0.949)      RGB{N0f8}(0.749,0.91,0.949) \n",
       " RGB{N0f8}(0.749,0.91,0.949)   …  RGB{N0f8}(0.749,0.91,0.949) \n",
       " RGB{N0f8}(0.749,0.91,0.949)      RGB{N0f8}(0.749,0.91,0.949) \n",
       " RGB{N0f8}(0.749,0.91,0.949)      RGB{N0f8}(0.749,0.91,0.949) \n",
       " RGB{N0f8}(0.749,0.91,0.949)      RGB{N0f8}(0.749,0.91,0.949) \n",
       " RGB{N0f8}(0.749,0.91,0.949)      RGB{N0f8}(0.749,0.91,0.949) \n",
       " RGB{N0f8}(0.749,0.91,0.949)   …  RGB{N0f8}(0.749,0.91,0.949) \n",
       " RGB{N0f8}(0.749,0.91,0.949)      RGB{N0f8}(0.749,0.91,0.949) \n",
       " RGB{N0f8}(0.749,0.91,0.949)      RGB{N0f8}(0.749,0.91,0.949) \n",
       " RGB{N0f8}(0.749,0.91,0.949)      RGB{N0f8}(0.749,0.91,0.949) \n",
       " RGB{N0f8}(0.749,0.91,0.949)      RGB{N0f8}(0.749,0.91,0.949) \n",
       " RGB{N0f8}(0.749,0.91,0.949)   …  RGB{N0f8}(0.749,0.91,0.949) \n",
       " RGB{N0f8}(0.725,0.478,0.341)     RGB{N0f8}(0.725,0.478,0.341)\n",
       " RGB{N0f8}(0.725,0.478,0.341)     RGB{N0f8}(0.725,0.478,0.341)"
      ]
     },
     "execution_count": 2,
     "metadata": {},
     "output_type": "execute_result"
    }
   ],
   "source": [
    "i = load(\"../../WaveFunctionCollapse/samples/Flowers.png\")"
   ]
  },
  {
   "cell_type": "code",
   "execution_count": 4,
   "metadata": {},
   "outputs": [
    {
     "ename": "UndefVarError",
     "evalue": "UndefVarError: N not defined",
     "output_type": "error",
     "traceback": [
      "UndefVarError: N not defined",
      "",
      "Stacktrace:",
      " [1] #load#1(::String, ::Int64, ::Int64, ::Int64, ::Bool, ::Bool, ::Function) at /home/robert/git/wavefunctioncollapse/src/load.jl:26",
      " [2] (::getfield(Main.wavefunctioncollapse, Symbol(\"#kw##load\")))(::NamedTuple{(:filename,),Tuple{String}}, ::typeof(Main.wavefunctioncollapse.load)) at ./none:0",
      " [3] top-level scope at In[4]:1"
     ]
    }
   ],
   "source": [
    "wavefunctioncollapse.load(filename=\"../../WaveFunctionCollapse/samples/Flowers.png\")"
   ]
  }
 ],
 "metadata": {
  "@webio": {
   "lastCommId": "19A81044DDAE4B3DAA5EE3D556FB1FE7",
   "lastKernelId": "5569e45c-c655-4943-ae95-a48749d51fd3"
  },
  "kernelspec": {
   "display_name": "Julia 1.0.0",
   "language": "julia",
   "name": "julia-1.0"
  },
  "language_info": {
   "file_extension": ".jl",
   "mimetype": "application/julia",
   "name": "julia",
   "version": "1.0.0"
  }
 },
 "nbformat": 4,
 "nbformat_minor": 2
}
