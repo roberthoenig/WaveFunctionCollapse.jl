{
 "cells": [
  {
   "cell_type": "code",
   "execution_count": 543,
   "metadata": {},
   "outputs": [
    {
     "name": "stderr",
     "output_type": "stream",
     "text": [
      "WARNING: redefining constant directions\n",
      "WARNING: redefining constant opposite\n"
     ]
    }
   ],
   "source": [
    "using Revise\n",
    "\n",
    "includet(\"overlapping_model.jl\")"
   ]
  },
  {
   "cell_type": "code",
   "execution_count": 572,
   "metadata": {},
   "outputs": [
    {
     "data": {
      "image/png": "[encoded data removed]",
      "text/plain": [
       "32×32 Array{RGB{N0f8},2} with eltype RGB{Normed{UInt8,8}}:\n",
       " RGB{N0f8}(0.169,0.067,0.0)  …  RGB{N0f8}(0.169,0.067,0.0)\n",
       " RGB{N0f8}(0.169,0.067,0.0)     RGB{N0f8}(0.584,0.29,0.0) \n",
       " RGB{N0f8}(0.169,0.067,0.0)     RGB{N0f8}(0.341,0.165,0.0)\n",
       " RGB{N0f8}(0.169,0.067,0.0)     RGB{N0f8}(0.341,0.165,0.0)\n",
       " RGB{N0f8}(0.169,0.067,0.0)     RGB{N0f8}(0.341,0.165,0.0)\n",
       " RGB{N0f8}(0.169,0.067,0.0)  …  RGB{N0f8}(0.341,0.165,0.0)\n",
       " RGB{N0f8}(0.169,0.067,0.0)     RGB{N0f8}(0.341,0.165,0.0)\n",
       " RGB{N0f8}(0.169,0.067,0.0)     RGB{N0f8}(0.169,0.067,0.0)\n",
       " RGB{N0f8}(0.169,0.067,0.0)     RGB{N0f8}(0.169,0.067,0.0)\n",
       " RGB{N0f8}(0.584,0.29,0.0)      RGB{N0f8}(0.584,0.29,0.0) \n",
       " RGB{N0f8}(0.584,0.29,0.0)   …  RGB{N0f8}(0.584,0.29,0.0) \n",
       " RGB{N0f8}(0.341,0.165,0.0)     RGB{N0f8}(0.584,0.29,0.0) \n",
       " RGB{N0f8}(0.341,0.165,0.0)     RGB{N0f8}(0.584,0.29,0.0) \n",
       " ⋮                           ⋱                            \n",
       " RGB{N0f8}(0.169,0.067,0.0)  …  RGB{N0f8}(0.341,0.165,0.0)\n",
       " RGB{N0f8}(0.169,0.067,0.0)     RGB{N0f8}(0.341,0.165,0.0)\n",
       " RGB{N0f8}(0.169,0.067,0.0)     RGB{N0f8}(0.341,0.165,0.0)\n",
       " RGB{N0f8}(0.169,0.067,0.0)     RGB{N0f8}(0.341,0.165,0.0)\n",
       " RGB{N0f8}(0.169,0.067,0.0)     RGB{N0f8}(0.169,0.067,0.0)\n",
       " RGB{N0f8}(0.584,0.29,0.0)   …  RGB{N0f8}(0.584,0.29,0.0) \n",
       " RGB{N0f8}(0.584,0.29,0.0)      RGB{N0f8}(0.584,0.29,0.0) \n",
       " RGB{N0f8}(0.584,0.29,0.0)      RGB{N0f8}(0.341,0.165,0.0)\n",
       " RGB{N0f8}(0.584,0.29,0.0)      RGB{N0f8}(0.584,0.29,0.0) \n",
       " RGB{N0f8}(0.584,0.29,0.0)      RGB{N0f8}(0.341,0.165,0.0)\n",
       " RGB{N0f8}(0.341,0.165,0.0)  …  RGB{N0f8}(0.169,0.067,0.0)\n",
       " RGB{N0f8}(0.341,0.165,0.0)     RGB{N0f8}(0.169,0.067,0.0)"
      ]
     },
     "execution_count": 572,
     "metadata": {},
     "output_type": "execute_result"
    }
   ],
   "source": [
    "FileIO.load(\"../samples/3Bricks.png\")"
   ]
  },
  {
   "cell_type": "code",
   "execution_count": 573,
   "metadata": {},
   "outputs": [
    {
     "data": {
      "image/png": "[encoded data removed]",
      "text/plain": [
       "32×32 Array{RGB{N0f8},2} with eltype RGB{Normed{UInt8,8}}:\n",
       " RGB{N0f8}(0.169,0.067,0.0)  …  RGB{N0f8}(0.169,0.067,0.0)\n",
       " RGB{N0f8}(0.169,0.067,0.0)     RGB{N0f8}(0.584,0.29,0.0) \n",
       " RGB{N0f8}(0.169,0.067,0.0)     RGB{N0f8}(0.341,0.165,0.0)\n",
       " RGB{N0f8}(0.169,0.067,0.0)     RGB{N0f8}(0.341,0.165,0.0)\n",
       " RGB{N0f8}(0.169,0.067,0.0)     RGB{N0f8}(0.341,0.165,0.0)\n",
       " RGB{N0f8}(0.169,0.067,0.0)  …  RGB{N0f8}(0.341,0.165,0.0)\n",
       " RGB{N0f8}(0.169,0.067,0.0)     RGB{N0f8}(0.341,0.165,0.0)\n",
       " RGB{N0f8}(0.169,0.067,0.0)     RGB{N0f8}(0.169,0.067,0.0)\n",
       " RGB{N0f8}(0.169,0.067,0.0)     RGB{N0f8}(0.169,0.067,0.0)\n",
       " RGB{N0f8}(0.584,0.29,0.0)      RGB{N0f8}(0.584,0.29,0.0) \n",
       " RGB{N0f8}(0.584,0.29,0.0)   …  RGB{N0f8}(0.584,0.29,0.0) \n",
       " RGB{N0f8}(0.341,0.165,0.0)     RGB{N0f8}(0.584,0.29,0.0) \n",
       " RGB{N0f8}(0.341,0.165,0.0)     RGB{N0f8}(0.584,0.29,0.0) \n",
       " ⋮                           ⋱                            \n",
       " RGB{N0f8}(0.169,0.067,0.0)  …  RGB{N0f8}(0.341,0.165,0.0)\n",
       " RGB{N0f8}(0.169,0.067,0.0)     RGB{N0f8}(0.341,0.165,0.0)\n",
       " RGB{N0f8}(0.169,0.067,0.0)     RGB{N0f8}(0.341,0.165,0.0)\n",
       " RGB{N0f8}(0.169,0.067,0.0)     RGB{N0f8}(0.341,0.165,0.0)\n",
       " RGB{N0f8}(0.169,0.067,0.0)     RGB{N0f8}(0.169,0.067,0.0)\n",
       " RGB{N0f8}(0.584,0.29,0.0)   …  RGB{N0f8}(0.584,0.29,0.0) \n",
       " RGB{N0f8}(0.584,0.29,0.0)      RGB{N0f8}(0.584,0.29,0.0) \n",
       " RGB{N0f8}(0.584,0.29,0.0)      RGB{N0f8}(0.341,0.165,0.0)\n",
       " RGB{N0f8}(0.584,0.29,0.0)      RGB{N0f8}(0.584,0.29,0.0) \n",
       " RGB{N0f8}(0.584,0.29,0.0)      RGB{N0f8}(0.341,0.165,0.0)\n",
       " RGB{N0f8}(0.341,0.165,0.0)  …  RGB{N0f8}(0.169,0.067,0.0)\n",
       " RGB{N0f8}(0.341,0.165,0.0)     RGB{N0f8}(0.169,0.067,0.0)"
      ]
     },
     "metadata": {},
     "output_type": "display_data"
    },
    {
     "name": "stdout",
     "output_type": "stream",
     "text": [
      "Seed: 663053\n",
      " 25.720075 seconds (149.06 M allocations: 4.982 GiB, 6.66% gc time)\n"
     ]
    },
    {
     "data": {
      "image/png": "[encoded data removed]",
      "text/plain": [
       "20×20 Array{RGB{Float32},2} with eltype RGB{Float32}:\n",
       " RGB{Float32}(0.584314,0.290196,0.0)   …  RGB{Float32}(0.584314,0.290196,0.0) \n",
       " RGB{Float32}(0.584314,0.290196,0.0)      RGB{Float32}(0.584314,0.290196,0.0) \n",
       " RGB{Float32}(0.584314,0.290196,0.0)      RGB{Float32}(0.584314,0.290196,0.0) \n",
       " RGB{Float32}(0.584314,0.290196,0.0)      RGB{Float32}(0.584314,0.290196,0.0) \n",
       " RGB{Float32}(0.584314,0.290196,0.0)      RGB{Float32}(0.584314,0.290196,0.0) \n",
       " RGB{Float32}(0.584314,0.290196,0.0)   …  RGB{Float32}(0.341176,0.164706,0.0) \n",
       " RGB{Float32}(0.584314,0.290196,0.0)      RGB{Float32}(0.584314,0.290196,0.0) \n",
       " RGB{Float32}(0.584314,0.290196,0.0)      RGB{Float32}(0.584314,0.290196,0.0) \n",
       " RGB{Float32}(0.584314,0.290196,0.0)      RGB{Float32}(0.341176,0.164706,0.0) \n",
       " RGB{Float32}(0.341176,0.164706,0.0)      RGB{Float32}(0.341176,0.164706,0.0) \n",
       " RGB{Float32}(0.341176,0.164706,0.0)   …  RGB{Float32}(0.341176,0.164706,0.0) \n",
       " RGB{Float32}(0.168627,0.0666667,0.0)     RGB{Float32}(0.168627,0.0666667,0.0)\n",
       " RGB{Float32}(0.584314,0.290196,0.0)      RGB{Float32}(0.584314,0.290196,0.0) \n",
       " RGB{Float32}(0.584314,0.290196,0.0)      RGB{Float32}(0.341176,0.164706,0.0) \n",
       " RGB{Float32}(0.341176,0.164706,0.0)      RGB{Float32}(0.584314,0.290196,0.0) \n",
       " RGB{Float32}(0.341176,0.164706,0.0)   …  RGB{Float32}(0.341176,0.164706,0.0) \n",
       " RGB{Float32}(0.341176,0.164706,0.0)      RGB{Float32}(0.341176,0.164706,0.0) \n",
       " RGB{Float32}(0.341176,0.164706,0.0)      RGB{Float32}(0.341176,0.164706,0.0) \n",
       " RGB{Float32}(0.168627,0.0666667,0.0)     RGB{Float32}(0.341176,0.164706,0.0) \n",
       " RGB{Float32}(0.168627,0.0666667,0.0)     RGB{Float32}(0.168627,0.0666667,0.0)"
      ]
     },
     "execution_count": 573,
     "metadata": {},
     "output_type": "execute_result"
    }
   ],
   "source": [
    "image_path = \"../samples/3Bricks.png\"\n",
    "display(FileIO.load(image_path))\n",
    "@time generate(filename=image_path, width=20, height=20, patternsize=3, seed=0, save_to_gif=true)"
   ]
  }
 ],
 "metadata": {
  "@webio": {
   "lastCommId": "19A81044DDAE4B3DAA5EE3D556FB1FE7",
   "lastKernelId": "5569e45c-c655-4943-ae95-a48749d51fd3"
  },
  "kernelspec": {
   "display_name": "Julia 1.0.0",
   "language": "julia",
   "name": "julia-1.0"
  },
  "language_info": {
   "file_extension": ".jl",
   "mimetype": "application/julia",
   "name": "julia",
   "version": "1.0.0"
  }
 },
 "nbformat": 4,
 "nbformat_minor": 2
}
