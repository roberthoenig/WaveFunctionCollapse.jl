{
 "cells": [
  {
   "cell_type": "code",
   "execution_count": 1,
   "metadata": {},
   "outputs": [
    {
     "name": "stderr",
     "output_type": "stream",
     "text": [
      "┌ Info: Recompiling stale cache file /home/robert/.julia/compiled/v1.0/StatsBase/EZjIG.ji for StatsBase [2913bbd2-ae8a-5f71-8c99-4fb6c76f3a91]\n",
      "└ @ Base loading.jl:1184\n"
     ]
    }
   ],
   "source": [
    "using Revise\n",
    "\n",
    "includet(\"overlapping_model.jl\")"
   ]
  },
  {
   "cell_type": "code",
   "execution_count": 33,
   "metadata": {},
   "outputs": [
    {
     "data": {
      "image/png": "[encoded data removed]",
      "text/plain": [
       "23×15 Array{RGB{N0f8},2} with eltype RGB{Normed{UInt8,8}}:\n",
       " RGB{N0f8}(0.749,0.91,0.949)   …  RGB{N0f8}(0.749,0.91,0.949) \n",
       " RGB{N0f8}(0.749,0.91,0.949)      RGB{N0f8}(0.749,0.91,0.949) \n",
       " RGB{N0f8}(0.749,0.91,0.949)      RGB{N0f8}(1.0,0.949,0.0)    \n",
       " RGB{N0f8}(0.749,0.91,0.949)      RGB{N0f8}(0.749,0.91,0.949) \n",
       " RGB{N0f8}(0.749,0.91,0.949)      RGB{N0f8}(0.749,0.91,0.949) \n",
       " RGB{N0f8}(0.749,0.91,0.949)   …  RGB{N0f8}(0.749,0.91,0.949) \n",
       " RGB{N0f8}(0.749,0.91,0.949)      RGB{N0f8}(0.749,0.91,0.949) \n",
       " RGB{N0f8}(1.0,0.949,0.0)         RGB{N0f8}(0.749,0.91,0.949) \n",
       " RGB{N0f8}(0.749,0.91,0.949)      RGB{N0f8}(0.749,0.91,0.949) \n",
       " RGB{N0f8}(0.749,0.91,0.949)      RGB{N0f8}(0.749,0.91,0.949) \n",
       " RGB{N0f8}(0.749,0.91,0.949)   …  RGB{N0f8}(0.749,0.91,0.949) \n",
       " RGB{N0f8}(0.749,0.91,0.949)      RGB{N0f8}(0.749,0.91,0.949) \n",
       " RGB{N0f8}(0.749,0.91,0.949)      RGB{N0f8}(0.749,0.91,0.949) \n",
       " RGB{N0f8}(0.749,0.91,0.949)      RGB{N0f8}(0.749,0.91,0.949) \n",
       " RGB{N0f8}(0.749,0.91,0.949)      RGB{N0f8}(0.749,0.91,0.949) \n",
       " RGB{N0f8}(0.749,0.91,0.949)   …  RGB{N0f8}(0.749,0.91,0.949) \n",
       " RGB{N0f8}(0.749,0.91,0.949)      RGB{N0f8}(0.749,0.91,0.949) \n",
       " RGB{N0f8}(0.749,0.91,0.949)      RGB{N0f8}(0.749,0.91,0.949) \n",
       " RGB{N0f8}(0.749,0.91,0.949)      RGB{N0f8}(0.749,0.91,0.949) \n",
       " RGB{N0f8}(0.749,0.91,0.949)      RGB{N0f8}(0.749,0.91,0.949) \n",
       " RGB{N0f8}(0.749,0.91,0.949)   …  RGB{N0f8}(0.749,0.91,0.949) \n",
       " RGB{N0f8}(0.725,0.478,0.341)     RGB{N0f8}(0.725,0.478,0.341)\n",
       " RGB{N0f8}(0.725,0.478,0.341)     RGB{N0f8}(0.725,0.478,0.341)"
      ]
     },
     "metadata": {},
     "output_type": "display_data"
    },
    {
     "name": "stdout",
     "output_type": "stream",
     "text": [
      "Seed: 997621\n",
      " 14.781707 seconds (120.02 M allocations: 4.462 GiB, 6.23% gc time)\n"
     ]
    },
    {
     "data": {
      "image/png": "[encoded data removed]",
      "text/plain": [
       "40×40 Array{RGB{Float32},2} with eltype RGB{Float32}:\n",
       " RGB{Float32}(0.74902,0.909804,0.94902)  …  RGB{Float32}(0.74902,0.909804,0.94902)\n",
       " RGB{Float32}(0.74902,0.909804,0.94902)     RGB{Float32}(0.74902,0.909804,0.94902)\n",
       " RGB{Float32}(0.0,0.666667,0.0)             RGB{Float32}(0.74902,0.909804,0.94902)\n",
       " RGB{Float32}(0.0,0.666667,0.0)             RGB{Float32}(0.74902,0.909804,0.94902)\n",
       " RGB{Float32}(0.0,0.666667,0.0)             RGB{Float32}(0.0,0.666667,0.0)        \n",
       " RGB{Float32}(0.74902,0.909804,0.94902)  …  RGB{Float32}(0.0,0.666667,0.0)        \n",
       " RGB{Float32}(0.0,0.666667,0.0)             RGB{Float32}(0.0,0.666667,0.0)        \n",
       " RGB{Float32}(0.0,0.666667,0.0)             RGB{Float32}(0.74902,0.909804,0.94902)\n",
       " RGB{Float32}(0.74902,0.909804,0.94902)     RGB{Float32}(0.74902,0.909804,0.94902)\n",
       " RGB{Float32}(0.74902,0.909804,0.94902)     RGB{Float32}(0.74902,0.909804,0.94902)\n",
       " RGB{Float32}(0.74902,0.909804,0.94902)  …  RGB{Float32}(0.74902,0.909804,0.94902)\n",
       " RGB{Float32}(0.74902,0.909804,0.94902)     RGB{Float32}(0.74902,0.909804,0.94902)\n",
       " RGB{Float32}(0.74902,0.909804,0.94902)     RGB{Float32}(0.74902,0.909804,0.94902)\n",
       " ⋮                                       ⋱                                        \n",
       " RGB{Float32}(0.74902,0.909804,0.94902)     RGB{Float32}(0.74902,0.909804,0.94902)\n",
       " RGB{Float32}(0.74902,0.909804,0.94902)     RGB{Float32}(0.74902,0.909804,0.94902)\n",
       " RGB{Float32}(0.74902,0.909804,0.94902)  …  RGB{Float32}(0.74902,0.909804,0.94902)\n",
       " RGB{Float32}(0.74902,0.909804,0.94902)     RGB{Float32}(0.74902,0.909804,0.94902)\n",
       " RGB{Float32}(0.74902,0.909804,0.94902)     RGB{Float32}(0.74902,0.909804,0.94902)\n",
       " RGB{Float32}(0.74902,0.909804,0.94902)     RGB{Float32}(0.74902,0.909804,0.94902)\n",
       " RGB{Float32}(0.74902,0.909804,0.94902)     RGB{Float32}(0.74902,0.909804,0.94902)\n",
       " RGB{Float32}(0.74902,0.909804,0.94902)  …  RGB{Float32}(0.74902,0.909804,0.94902)\n",
       " RGB{Float32}(0.74902,0.909804,0.94902)     RGB{Float32}(0.74902,0.909804,0.94902)\n",
       " RGB{Float32}(0.74902,0.909804,0.94902)     RGB{Float32}(0.74902,0.909804,0.94902)\n",
       " RGB{Float32}(0.74902,0.909804,0.94902)     RGB{Float32}(0.74902,0.909804,0.94902)\n",
       " RGB{Float32}(0.74902,0.909804,0.94902)     RGB{Float32}(0.74902,0.909804,0.94902)"
      ]
     },
     "execution_count": 33,
     "metadata": {},
     "output_type": "execute_result"
    }
   ],
   "source": [
    "image_path = \"../samples/Flowers.png\"\n",
    "display(FileIO.load(image_path))\n",
    "@time generate(filename=image_path, width=40, height=40, patternsize=3, seed=0, save_to_gif=false, periodicOutput=true)"
   ]
  },
  {
   "cell_type": "code",
   "execution_count": 37,
   "metadata": {},
   "outputs": [
    {
     "data": {
      "image/png": "[encoded data removed]",
      "text/plain": [
       "80×80 Array{RGB{Float32},2} with eltype RGB{Float32}:\n",
       " RGB{Float32}(0.74902,0.909804,0.94902)  …  RGB{Float32}(0.74902,0.909804,0.94902)\n",
       " RGB{Float32}(0.74902,0.909804,0.94902)     RGB{Float32}(0.74902,0.909804,0.94902)\n",
       " RGB{Float32}(0.0,0.666667,0.0)             RGB{Float32}(0.74902,0.909804,0.94902)\n",
       " RGB{Float32}(0.0,0.666667,0.0)             RGB{Float32}(0.74902,0.909804,0.94902)\n",
       " RGB{Float32}(0.0,0.666667,0.0)             RGB{Float32}(0.0,0.666667,0.0)        \n",
       " RGB{Float32}(0.74902,0.909804,0.94902)  …  RGB{Float32}(0.0,0.666667,0.0)        \n",
       " RGB{Float32}(0.74902,0.909804,0.94902)     RGB{Float32}(0.74902,0.909804,0.94902)\n",
       " RGB{Float32}(0.74902,0.909804,0.94902)     RGB{Float32}(0.0,0.666667,0.0)        \n",
       " RGB{Float32}(0.0,0.666667,0.0)             RGB{Float32}(0.0,0.666667,0.0)        \n",
       " RGB{Float32}(0.0,0.666667,0.0)             RGB{Float32}(0.74902,0.909804,0.94902)\n",
       " RGB{Float32}(0.0,0.666667,0.0)          …  RGB{Float32}(0.74902,0.909804,0.94902)\n",
       " RGB{Float32}(0.74902,0.909804,0.94902)     RGB{Float32}(0.74902,0.909804,0.94902)\n",
       " RGB{Float32}(0.74902,0.909804,0.94902)     RGB{Float32}(0.74902,0.909804,0.94902)\n",
       " ⋮                                       ⋱                                        \n",
       " RGB{Float32}(0.74902,0.909804,0.94902)     RGB{Float32}(0.74902,0.909804,0.94902)\n",
       " RGB{Float32}(0.74902,0.909804,0.94902)     RGB{Float32}(0.74902,0.909804,0.94902)\n",
       " RGB{Float32}(0.74902,0.909804,0.94902)  …  RGB{Float32}(0.74902,0.909804,0.94902)\n",
       " RGB{Float32}(0.74902,0.909804,0.94902)     RGB{Float32}(0.74902,0.909804,0.94902)\n",
       " RGB{Float32}(0.74902,0.909804,0.94902)     RGB{Float32}(0.74902,0.909804,0.94902)\n",
       " RGB{Float32}(0.74902,0.909804,0.94902)     RGB{Float32}(0.74902,0.909804,0.94902)\n",
       " RGB{Float32}(0.74902,0.909804,0.94902)     RGB{Float32}(0.74902,0.909804,0.94902)\n",
       " RGB{Float32}(0.0,0.666667,0.0)          …  RGB{Float32}(0.74902,0.909804,0.94902)\n",
       " RGB{Float32}(0.0,0.666667,0.0)             RGB{Float32}(0.0,0.666667,0.0)        \n",
       " RGB{Float32}(0.74902,0.909804,0.94902)     RGB{Float32}(0.0,0.666667,0.0)        \n",
       " RGB{Float32}(0.0,0.666667,0.0)             RGB{Float32}(0.0,0.666667,0.0)        \n",
       " RGB{Float32}(0.0,0.666667,0.0)             RGB{Float32}(0.74902,0.909804,0.94902)"
      ]
     },
     "execution_count": 37,
     "metadata": {},
     "output_type": "execute_result"
    }
   ],
   "source": [
    "repeat(out, 2, 2)"
   ]
  }
 ],
 "metadata": {
  "@webio": {
   "lastCommId": "19A81044DDAE4B3DAA5EE3D556FB1FE7",
   "lastKernelId": "5569e45c-c655-4943-ae95-a48749d51fd3"
  },
  "kernelspec": {
   "display_name": "Julia 1.0.0",
   "language": "julia",
   "name": "julia-1.0"
  },
  "language_info": {
   "file_extension": ".jl",
   "mimetype": "application/julia",
   "name": "julia",
   "version": "1.0.0"
  }
 },
 "nbformat": 4,
 "nbformat_minor": 2
}
