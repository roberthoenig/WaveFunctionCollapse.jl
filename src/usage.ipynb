{
 "cells": [
  {
   "cell_type": "code",
   "execution_count": 1,
   "metadata": {},
   "outputs": [],
   "source": [
    "using Revise\n",
    "\n",
    "includet(\"overlapping_model.jl\")"
   ]
  },
  {
   "cell_type": "code",
   "execution_count": 106,
   "metadata": {},
   "outputs": [
    {
     "data": {
      "image/png": "[encoded data removed]",
      "text/plain": [
       "23×15 Array{RGB{N0f8},2} with eltype RGB{Normed{UInt8,8}}:\n",
       " RGB{N0f8}(0.749,0.91,0.949)   …  RGB{N0f8}(0.749,0.91,0.949) \n",
       " RGB{N0f8}(0.749,0.91,0.949)      RGB{N0f8}(0.749,0.91,0.949) \n",
       " RGB{N0f8}(0.749,0.91,0.949)      RGB{N0f8}(1.0,0.949,0.0)    \n",
       " RGB{N0f8}(0.749,0.91,0.949)      RGB{N0f8}(0.749,0.91,0.949) \n",
       " RGB{N0f8}(0.749,0.91,0.949)      RGB{N0f8}(0.749,0.91,0.949) \n",
       " RGB{N0f8}(0.749,0.91,0.949)   …  RGB{N0f8}(0.749,0.91,0.949) \n",
       " RGB{N0f8}(0.749,0.91,0.949)      RGB{N0f8}(0.749,0.91,0.949) \n",
       " RGB{N0f8}(1.0,0.949,0.0)         RGB{N0f8}(0.749,0.91,0.949) \n",
       " RGB{N0f8}(0.749,0.91,0.949)      RGB{N0f8}(0.749,0.91,0.949) \n",
       " RGB{N0f8}(0.749,0.91,0.949)      RGB{N0f8}(0.749,0.91,0.949) \n",
       " RGB{N0f8}(0.749,0.91,0.949)   …  RGB{N0f8}(0.749,0.91,0.949) \n",
       " RGB{N0f8}(0.749,0.91,0.949)      RGB{N0f8}(0.749,0.91,0.949) \n",
       " RGB{N0f8}(0.749,0.91,0.949)      RGB{N0f8}(0.749,0.91,0.949) \n",
       " RGB{N0f8}(0.749,0.91,0.949)      RGB{N0f8}(0.749,0.91,0.949) \n",
       " RGB{N0f8}(0.749,0.91,0.949)      RGB{N0f8}(0.749,0.91,0.949) \n",
       " RGB{N0f8}(0.749,0.91,0.949)   …  RGB{N0f8}(0.749,0.91,0.949) \n",
       " RGB{N0f8}(0.749,0.91,0.949)      RGB{N0f8}(0.749,0.91,0.949) \n",
       " RGB{N0f8}(0.749,0.91,0.949)      RGB{N0f8}(0.749,0.91,0.949) \n",
       " RGB{N0f8}(0.749,0.91,0.949)      RGB{N0f8}(0.749,0.91,0.949) \n",
       " RGB{N0f8}(0.749,0.91,0.949)      RGB{N0f8}(0.749,0.91,0.949) \n",
       " RGB{N0f8}(0.749,0.91,0.949)   …  RGB{N0f8}(0.749,0.91,0.949) \n",
       " RGB{N0f8}(0.725,0.478,0.341)     RGB{N0f8}(0.725,0.478,0.341)\n",
       " RGB{N0f8}(0.725,0.478,0.341)     RGB{N0f8}(0.725,0.478,0.341)"
      ]
     },
     "metadata": {},
     "output_type": "display_data"
    },
    {
     "name": "stdout",
     "output_type": "stream",
     "text": [
      "Seed: 560917\n",
      "Ground:\n"
     ]
    },
    {
     "data": {
      "image/png": "[encoded data removed]",
      "text/plain": [
       "3×3 Array{RGB{Float32},2} with eltype RGB{Float32}:\n",
       " RGB{Float32}(0.74902,0.909804,0.94902)   …  RGB{Float32}(0.74902,0.909804,0.94902) \n",
       " RGB{Float32}(0.72549,0.478431,0.341176)     RGB{Float32}(0.72549,0.478431,0.341176)\n",
       " RGB{Float32}(0.72549,0.478431,0.341176)     RGB{Float32}(0.72549,0.478431,0.341176)"
      ]
     },
     "metadata": {},
     "output_type": "display_data"
    },
    {
     "name": "stdout",
     "output_type": "stream",
     "text": [
      " 11.718990 seconds (58.55 M allocations: 2.175 GiB, 5.14% gc time)\n"
     ]
    },
    {
     "data": {
      "image/png": "[encoded data removed]",
      "text/plain": [
       "20×50 Array{RGB{Float32},2} with eltype RGB{Float32}:\n",
       " RGB{Float32}(0.0,0.666667,0.0)           …  RGB{Float32}(0.74902,0.909804,0.94902) \n",
       " RGB{Float32}(0.0,0.666667,0.0)              RGB{Float32}(0.74902,0.909804,0.94902) \n",
       " RGB{Float32}(0.74902,0.909804,0.94902)      RGB{Float32}(0.74902,0.909804,0.94902) \n",
       " RGB{Float32}(0.74902,0.909804,0.94902)      RGB{Float32}(0.74902,0.909804,0.94902) \n",
       " RGB{Float32}(0.74902,0.909804,0.94902)      RGB{Float32}(0.74902,0.909804,0.94902) \n",
       " RGB{Float32}(0.74902,0.909804,0.94902)   …  RGB{Float32}(0.74902,0.909804,0.94902) \n",
       " RGB{Float32}(0.74902,0.909804,0.94902)      RGB{Float32}(0.74902,0.909804,0.94902) \n",
       " RGB{Float32}(0.74902,0.909804,0.94902)      RGB{Float32}(0.74902,0.909804,0.94902) \n",
       " RGB{Float32}(0.74902,0.909804,0.94902)      RGB{Float32}(0.74902,0.909804,0.94902) \n",
       " RGB{Float32}(0.74902,0.909804,0.94902)      RGB{Float32}(0.74902,0.909804,0.94902) \n",
       " RGB{Float32}(0.74902,0.909804,0.94902)   …  RGB{Float32}(0.74902,0.909804,0.94902) \n",
       " RGB{Float32}(0.74902,0.909804,0.94902)      RGB{Float32}(0.0,0.666667,0.0)         \n",
       " RGB{Float32}(0.74902,0.909804,0.94902)      RGB{Float32}(0.0,0.666667,0.0)         \n",
       " RGB{Float32}(0.0,0.666667,0.0)              RGB{Float32}(0.74902,0.909804,0.94902) \n",
       " RGB{Float32}(0.0,0.666667,0.0)              RGB{Float32}(0.74902,0.909804,0.94902) \n",
       " RGB{Float32}(0.0,0.666667,0.0)           …  RGB{Float32}(0.74902,0.909804,0.94902) \n",
       " RGB{Float32}(0.74902,0.909804,0.94902)      RGB{Float32}(0.74902,0.909804,0.94902) \n",
       " RGB{Float32}(0.74902,0.909804,0.94902)      RGB{Float32}(0.74902,0.909804,0.94902) \n",
       " RGB{Float32}(0.72549,0.478431,0.341176)     RGB{Float32}(0.72549,0.478431,0.341176)\n",
       " RGB{Float32}(0.72549,0.478431,0.341176)     RGB{Float32}(0.72549,0.478431,0.341176)"
      ]
     },
     "execution_count": 106,
     "metadata": {},
     "output_type": "execute_result"
    }
   ],
   "source": [
    "image_path = \"../samples/Flowers.png\"\n",
    "image = FileIO.load(image_path)\n",
    "display(image)\n",
    "@time out = generate(\n",
    "    filename=image_path,\n",
    "    width=50,\n",
    "    height=20,\n",
    "    patternsize=3,\n",
    "    seed=0,\n",
    "    save_to_gif=false,\n",
    "    periodicInput=false,\n",
    "    periodicOutput=false,\n",
    "    mirrorInputHorizontally=false,\n",
    "    ground=(21, 7))"
   ]
  }
 ],
 "metadata": {
  "@webio": {
   "lastCommId": "19A81044DDAE4B3DAA5EE3D556FB1FE7",
   "lastKernelId": "5569e45c-c655-4943-ae95-a48749d51fd3"
  },
  "kernelspec": {
   "display_name": "Julia 1.0.0",
   "language": "julia",
   "name": "julia-1.0"
  },
  "language_info": {
   "file_extension": ".jl",
   "mimetype": "application/julia",
   "name": "julia",
   "version": "1.0.0"
  }
 },
 "nbformat": 4,
 "nbformat_minor": 2
}
